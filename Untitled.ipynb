{
 "cells": [
  {
   "cell_type": "code",
   "execution_count": 1,
   "metadata": {},
   "outputs": [
    {
     "name": "stderr",
     "output_type": "stream",
     "text": [
      "/home/sanjay/anaconda3/lib/python3.6/site-packages/h5py/__init__.py:36: FutureWarning: Conversion of the second argument of issubdtype from `float` to `np.floating` is deprecated. In future, it will be treated as `np.float64 == np.dtype(float).type`.\n",
      "  from ._conv import register_converters as _register_converters\n",
      "Using TensorFlow backend.\n"
     ]
    }
   ],
   "source": [
    "from __future__ import division\n",
    "from __future__ import print_function, division,  unicode_literals\n",
    "import pandas as pd \n",
    "import numpy as np\n",
    "from train_process import SentenceGetter \n",
    "import tensorflow as tf\n",
    "from keras.utils import to_categorical\n",
    "from keras.preprocessing.sequence import pad_sequences\n",
    "from sklearn.model_selection import train_test_split\n",
    "from keras.models import Model,Input\n",
    "from keras.layers import LSTM,TimeDistributed,Embedding,Dense,Dropout,Bidirectional\n",
    "from keras_contrib.layers import CRF\n",
    "import matplotlib.pyplot as plt\n",
    "from keras.preprocessing.text import Tokenizer\n",
    "import numpy as np"
   ]
  },
  {
   "cell_type": "code",
   "execution_count": 2,
   "metadata": {
    "scrolled": true
   },
   "outputs": [
    {
     "data": {
      "text/html": [
       "<div>\n",
       "<style>\n",
       "    .dataframe thead tr:only-child th {\n",
       "        text-align: right;\n",
       "    }\n",
       "\n",
       "    .dataframe thead th {\n",
       "        text-align: left;\n",
       "    }\n",
       "\n",
       "    .dataframe tbody tr th {\n",
       "        vertical-align: top;\n",
       "    }\n",
       "</style>\n",
       "<table border=\"1\" class=\"dataframe\">\n",
       "  <thead>\n",
       "    <tr style=\"text-align: right;\">\n",
       "      <th></th>\n",
       "      <th>Sentence</th>\n",
       "      <th>Word</th>\n",
       "      <th>POS</th>\n",
       "      <th>Tag</th>\n",
       "    </tr>\n",
       "  </thead>\n",
       "  <tbody>\n",
       "    <tr>\n",
       "      <th>1048570</th>\n",
       "      <td>Sentence: 47959</td>\n",
       "      <td>they</td>\n",
       "      <td>PRP</td>\n",
       "      <td>O</td>\n",
       "    </tr>\n",
       "    <tr>\n",
       "      <th>1048571</th>\n",
       "      <td>Sentence: 47959</td>\n",
       "      <td>responded</td>\n",
       "      <td>VBD</td>\n",
       "      <td>O</td>\n",
       "    </tr>\n",
       "    <tr>\n",
       "      <th>1048572</th>\n",
       "      <td>Sentence: 47959</td>\n",
       "      <td>to</td>\n",
       "      <td>TO</td>\n",
       "      <td>O</td>\n",
       "    </tr>\n",
       "    <tr>\n",
       "      <th>1048573</th>\n",
       "      <td>Sentence: 47959</td>\n",
       "      <td>the</td>\n",
       "      <td>DT</td>\n",
       "      <td>O</td>\n",
       "    </tr>\n",
       "    <tr>\n",
       "      <th>1048574</th>\n",
       "      <td>Sentence: 47959</td>\n",
       "      <td>attack</td>\n",
       "      <td>NN</td>\n",
       "      <td>O</td>\n",
       "    </tr>\n",
       "  </tbody>\n",
       "</table>\n",
       "</div>"
      ],
      "text/plain": [
       "                Sentence       Word  POS Tag\n",
       "1048570  Sentence: 47959       they  PRP   O\n",
       "1048571  Sentence: 47959  responded  VBD   O\n",
       "1048572  Sentence: 47959         to   TO   O\n",
       "1048573  Sentence: 47959        the   DT   O\n",
       "1048574  Sentence: 47959     attack   NN   O"
      ]
     },
     "execution_count": 2,
     "metadata": {},
     "output_type": "execute_result"
    }
   ],
   "source": [
    "#data having 47959 sentences\n",
    "data = pd.read_csv('./data/ner_dataset.csv')\n",
    "data = data.fillna(method='ffill')\n",
    "data.tail()"
   ]
  },
  {
   "cell_type": "code",
   "execution_count": 3,
   "metadata": {
    "collapsed": true
   },
   "outputs": [],
   "source": [
    "#taking a subset to train \n",
    "train_data = data[0:500000]"
   ]
  },
  {
   "cell_type": "code",
   "execution_count": 4,
   "metadata": {},
   "outputs": [
    {
     "name": "stdout",
     "output_type": "stream",
     "text": [
      "24712\n"
     ]
    }
   ],
   "source": [
    "#list of words ,total no. of 35165 unique Words\n",
    "words = train_data['Word'].unique()\n",
    "n_words = len(words)\n",
    "print(n_words)"
   ]
  },
  {
   "cell_type": "code",
   "execution_count": 5,
   "metadata": {
    "scrolled": true
   },
   "outputs": [
    {
     "name": "stdout",
     "output_type": "stream",
     "text": [
      "17\n"
     ]
    }
   ],
   "source": [
    "#list of tags , total of 17 Tags\n",
    "tags = train_data['Tag'].unique()\n",
    "n_tags = len(tags)\n",
    "print(n_tags)"
   ]
  },
  {
   "cell_type": "code",
   "execution_count": 6,
   "metadata": {
    "collapsed": true
   },
   "outputs": [],
   "source": [
    "getter = SentenceGetter(train_data)"
   ]
  },
  {
   "cell_type": "code",
   "execution_count": 7,
   "metadata": {},
   "outputs": [
    {
     "name": "stdout",
     "output_type": "stream",
     "text": [
      "[('Thousands', 'NNS', 'O'), ('of', 'IN', 'O'), ('demonstrators', 'NNS', 'O'), ('have', 'VBP', 'O'), ('marched', 'VBN', 'O'), ('through', 'IN', 'O'), ('London', 'NNP', 'B-geo'), ('to', 'TO', 'O'), ('protest', 'VB', 'O'), ('the', 'DT', 'O'), ('war', 'NN', 'O'), ('in', 'IN', 'O'), ('Iraq', 'NNP', 'B-geo'), ('and', 'CC', 'O'), ('demand', 'VB', 'O'), ('the', 'DT', 'O'), ('withdrawal', 'NN', 'O'), ('of', 'IN', 'O'), ('British', 'JJ', 'B-gpe'), ('troops', 'NNS', 'O'), ('from', 'IN', 'O'), ('that', 'DT', 'O'), ('country', 'NN', 'O'), ('.', '.', 'O')]\n"
     ]
    }
   ],
   "source": [
    "sent = getter.get_next()\n",
    "print(sent)"
   ]
  },
  {
   "cell_type": "code",
   "execution_count": 8,
   "metadata": {
    "collapsed": true
   },
   "outputs": [],
   "source": [
    "#gets all the sentences\n",
    "sentences = getter.sentences"
   ]
  },
  {
   "cell_type": "code",
   "execution_count": 9,
   "metadata": {
    "collapsed": true
   },
   "outputs": [],
   "source": [
    "#making dictonaries for words and tags \n",
    "#i+1 for words as 0 is left for padding \n",
    "word2idx = {w: i + 1 for i, w in enumerate(words)}\n",
    "tag2idx = {t: i for i,t in enumerate(tags)}"
   ]
  },
  {
   "cell_type": "code",
   "execution_count": 10,
   "metadata": {
    "collapsed": true
   },
   "outputs": [],
   "source": [
    "#tokenizing at character level for char embeddings\n",
    "T = Tokenizer(char_level=True)\n",
    "T.fit_on_texts(words)\n",
    "char2idx = T.word_index"
   ]
  },
  {
   "cell_type": "code",
   "execution_count": 11,
   "metadata": {
    "collapsed": true
   },
   "outputs": [],
   "source": [
    "X = [[word2idx[w[0]] for w in s] for s in sentences]\n",
    "Y = [[tag2idx[w[2]] for w in s] for s in sentences]"
   ]
  },
  {
   "cell_type": "code",
   "execution_count": 12,
   "metadata": {
    "collapsed": true
   },
   "outputs": [],
   "source": [
    "X = pad_sequences(sequences=X,padding='post',value=0)\n",
    "Y = pad_sequences(sequences=Y,padding='post',value=tag2idx['O'])"
   ]
  },
  {
   "cell_type": "code",
   "execution_count": 13,
   "metadata": {
    "collapsed": true
   },
   "outputs": [],
   "source": [
    "max_length = np.asarray(X).shape[1]"
   ]
  },
  {
   "cell_type": "code",
   "execution_count": 14,
   "metadata": {
    "collapsed": true
   },
   "outputs": [],
   "source": [
    "Y = [to_categorical(y,num_classes=n_tags) for y in Y]"
   ]
  },
  {
   "cell_type": "code",
   "execution_count": 15,
   "metadata": {
    "collapsed": true
   },
   "outputs": [],
   "source": [
    "X_train,X_test,y_train,y_test = train_test_split(X, Y, test_size = 0.1) "
   ]
  },
  {
   "cell_type": "code",
   "execution_count": 16,
   "metadata": {
    "collapsed": true
   },
   "outputs": [],
   "source": [
    "inpt = Input(shape=(max_length,))\n",
    "model = Embedding(input_dim=n_words+1,output_dim=50,input_length=max_length)(inpt)\n",
    "model = Dropout(0.1)(model)\n",
    "model = Bidirectional(LSTM(units=100,return_sequences=True,recurrent_dropout=0.1))(model)\n",
    "model = TimeDistributed(Dense(50,activation=\"relu\"))(model)\n",
    "crf = CRF(n_tags)\n",
    "out = crf(model)"
   ]
  },
  {
   "cell_type": "code",
   "execution_count": 17,
   "metadata": {
    "scrolled": true
   },
   "outputs": [
    {
     "name": "stdout",
     "output_type": "stream",
     "text": [
      "_________________________________________________________________\n",
      "Layer (type)                 Output Shape              Param #   \n",
      "=================================================================\n",
      "input_1 (InputLayer)         (None, 104)               0         \n",
      "_________________________________________________________________\n",
      "embedding_1 (Embedding)      (None, 104, 50)           1235650   \n",
      "_________________________________________________________________\n",
      "dropout_1 (Dropout)          (None, 104, 50)           0         \n",
      "_________________________________________________________________\n",
      "bidirectional_1 (Bidirection (None, 104, 200)          120800    \n",
      "_________________________________________________________________\n",
      "time_distributed_1 (TimeDist (None, 104, 50)           10050     \n",
      "_________________________________________________________________\n",
      "crf_1 (CRF)                  (None, 104, 17)           1190      \n",
      "=================================================================\n",
      "Total params: 1,367,690\n",
      "Trainable params: 1,367,690\n",
      "Non-trainable params: 0\n",
      "_________________________________________________________________\n"
     ]
    }
   ],
   "source": [
    "model = Model(inpt,out)\n",
    "model.summary()"
   ]
  },
  {
   "cell_type": "code",
   "execution_count": 18,
   "metadata": {
    "collapsed": true
   },
   "outputs": [],
   "source": [
    "from keras.callbacks import Callback, TensorBoard\n",
    "from sklearn.metrics import f1_score,confusion_matrix \n",
    "\n",
    "\n",
    "class Metrics(Callback):\n",
    "    def on_epoch_end(self, batch, logs={}):\n",
    "        predict = np.asarray(self.model.predict(self.validation_data[0]))\n",
    "        \n",
    "        argmax = np.argmax(predict,axis=-1)\n",
    "        \n",
    "        predictions = np.zeros((predict.shape[0], predict.shape[1], predict.shape[2]), dtype = int)\n",
    "        for i in range(0,argmax.shape[0]):\n",
    "            for j in range(0, argmax.shape[1]):\n",
    "                predictions[i][j][argmax[i][j]] = 1\n",
    "                \n",
    "        predictions = predictions.reshape((-1,predict.shape[2]))\n",
    "\n",
    "        targ = self.validation_data[1]\n",
    "        targ = targ.reshape((-1,predict.shape[2]))\n",
    "\n",
    "        f1s = f1_score(targ, predictions, average = 'micro')\n",
    "        targ_c = np.argmax(targ,axis=-1)\n",
    "        print(\"f1_score = \", f1s)    \n",
    "        return"
   ]
  },
  {
   "cell_type": "code",
   "execution_count": 19,
   "metadata": {
    "collapsed": true
   },
   "outputs": [],
   "source": [
    "metrics = Metrics()\n",
    "a = crf.loss_function"
   ]
  },
  {
   "cell_type": "code",
   "execution_count": 20,
   "metadata": {
    "scrolled": true
   },
   "outputs": [],
   "source": [
    "model.compile(optimizer='rmsprop',loss=a,metrics=[crf.accuracy])"
   ]
  },
  {
   "cell_type": "code",
   "execution_count": 21,
   "metadata": {
    "scrolled": true
   },
   "outputs": [
    {
     "name": "stdout",
     "output_type": "stream",
     "text": [
      "Train on 18517 samples, validate on 2058 samples\n",
      "Epoch 1/4\n",
      "18517/18517 [==============================] - 212s 11ms/step - loss: 0.1025 - acc: 0.9731 - val_loss: 0.0391 - val_acc: 0.9859\n",
      "f1_score =  0.9859179935710548\n",
      "Epoch 2/4\n",
      "18517/18517 [==============================] - 196s 11ms/step - loss: 0.0237 - acc: 0.9898 - val_loss: 0.0166 - val_acc: 0.9904\n",
      "f1_score =  0.9904406817672123\n",
      "Epoch 3/4\n",
      "18517/18517 [==============================] - 218s 12ms/step - loss: 0.0078 - acc: 0.9924 - val_loss: 0.0065 - val_acc: 0.9917\n",
      "f1_score =  0.9916881587799955\n",
      "Epoch 4/4\n",
      "18517/18517 [==============================] - 218s 12ms/step - loss: -0.0020 - acc: 0.9936 - val_loss: -9.8716e-04 - val_acc: 0.9920\n",
      "f1_score =  0.992015212678478\n"
     ]
    }
   ],
   "source": [
    "history = model.fit(X_train,np.array(y_train),batch_size=32,epochs=4,validation_split=0.1,verbose=1,callbacks = [metrics])"
   ]
  },
  {
   "cell_type": "code",
   "execution_count": 22,
   "metadata": {
    "collapsed": true
   },
   "outputs": [],
   "source": [
    "hist = pd.DataFrame(history.history)"
   ]
  },
  {
   "cell_type": "code",
   "execution_count": 23,
   "metadata": {
    "scrolled": true
   },
   "outputs": [
    {
     "data": {
      "text/html": [
       "<div>\n",
       "<style>\n",
       "    .dataframe thead tr:only-child th {\n",
       "        text-align: right;\n",
       "    }\n",
       "\n",
       "    .dataframe thead th {\n",
       "        text-align: left;\n",
       "    }\n",
       "\n",
       "    .dataframe tbody tr th {\n",
       "        vertical-align: top;\n",
       "    }\n",
       "</style>\n",
       "<table border=\"1\" class=\"dataframe\">\n",
       "  <thead>\n",
       "    <tr style=\"text-align: right;\">\n",
       "      <th></th>\n",
       "      <th>acc</th>\n",
       "      <th>loss</th>\n",
       "      <th>val_acc</th>\n",
       "      <th>val_loss</th>\n",
       "    </tr>\n",
       "  </thead>\n",
       "  <tbody>\n",
       "    <tr>\n",
       "      <th>0</th>\n",
       "      <td>0.973077</td>\n",
       "      <td>0.102455</td>\n",
       "      <td>0.985918</td>\n",
       "      <td>0.039118</td>\n",
       "    </tr>\n",
       "    <tr>\n",
       "      <th>1</th>\n",
       "      <td>0.989759</td>\n",
       "      <td>0.023742</td>\n",
       "      <td>0.990441</td>\n",
       "      <td>0.016583</td>\n",
       "    </tr>\n",
       "    <tr>\n",
       "      <th>2</th>\n",
       "      <td>0.992397</td>\n",
       "      <td>0.007815</td>\n",
       "      <td>0.991688</td>\n",
       "      <td>0.006518</td>\n",
       "    </tr>\n",
       "    <tr>\n",
       "      <th>3</th>\n",
       "      <td>0.993579</td>\n",
       "      <td>-0.002035</td>\n",
       "      <td>0.992015</td>\n",
       "      <td>-0.000987</td>\n",
       "    </tr>\n",
       "  </tbody>\n",
       "</table>\n",
       "</div>"
      ],
      "text/plain": [
       "        acc      loss   val_acc  val_loss\n",
       "0  0.973077  0.102455  0.985918  0.039118\n",
       "1  0.989759  0.023742  0.990441  0.016583\n",
       "2  0.992397  0.007815  0.991688  0.006518\n",
       "3  0.993579 -0.002035  0.992015 -0.000987"
      ]
     },
     "execution_count": 23,
     "metadata": {},
     "output_type": "execute_result"
    }
   ],
   "source": [
    "hist"
   ]
  },
  {
   "cell_type": "code",
   "execution_count": 24,
   "metadata": {
    "scrolled": true
   },
   "outputs": [
    {
     "data": {
      "image/png": "[encoded data removed]",
      "text/plain": [
       "<matplotlib.figure.Figure at 0x7fc1a0d1eda0>"
      ]
     },
     "metadata": {},
     "output_type": "display_data"
    }
   ],
   "source": [
    "import matplotlib.pyplot as plt\n",
    "plt.style.use(\"ggplot\")\n",
    "plt.figure(figsize=(12,12))\n",
    "plt.plot(hist[\"acc\"])\n",
    "plt.plot(hist[\"val_acc\"])\n",
    "plt.show()"
   ]
  },
  {
   "cell_type": "code",
   "execution_count": 25,
   "metadata": {},
   "outputs": [
    {
     "data": {
      "text/plain": [
       "array([  62,  341,  319, 4043,   12,   13,   69,  380,  152,  839,  121,\n",
       "         82,   12,   10,  294,   14,   79, 3978,    8,  809,  561,   22,\n",
       "          0,    0,    0,    0,    0,    0,    0,    0,    0,    0,    0,\n",
       "          0,    0,    0,    0,    0,    0,    0,    0,    0,    0,    0,\n",
       "          0,    0,    0,    0,    0,    0,    0,    0,    0,    0,    0,\n",
       "          0,    0,    0,    0,    0,    0,    0,    0,    0,    0,    0,\n",
       "          0,    0,    0,    0,    0,    0,    0,    0,    0,    0,    0,\n",
       "          0,    0,    0,    0,    0,    0,    0,    0,    0,    0,    0,\n",
       "          0,    0,    0,    0,    0,    0,    0,    0,    0,    0,    0,\n",
       "          0,    0,    0,    0,    0], dtype=int32)"
      ]
     },
     "execution_count": 25,
     "metadata": {},
     "output_type": "execute_result"
    }
   ],
   "source": [
    "X_test[0]"
   ]
  },
  {
   "cell_type": "code",
   "execution_count": 26,
   "metadata": {
    "collapsed": true
   },
   "outputs": [],
   "source": [
    "from sklearn.metrics import classification_report"
   ]
  },
  {
   "cell_type": "code",
   "execution_count": 27,
   "metadata": {},
   "outputs": [
    {
     "name": "stdout",
     "output_type": "stream",
     "text": [
      "             precision    recall  f1-score   support\n",
      "\n",
      "          0       1.00      1.00      1.00    230447\n",
      "          1       0.86      0.85      0.86      1833\n",
      "          2       0.90      0.96      0.93       723\n",
      "          3       0.77      0.82      0.79       756\n",
      "          4       0.74      0.84      0.79       340\n",
      "          5       0.76      0.64      0.69      1047\n",
      "          6       0.79      0.69      0.74       823\n",
      "          7       0.85      0.90      0.88       929\n",
      "          8       0.00      0.00      0.00         0\n",
      "          9       0.00      0.00      0.00         0\n",
      "         10       0.77      0.88      0.82       725\n",
      "         11       0.12      0.50      0.20         2\n",
      "         12       0.61      0.86      0.71       223\n",
      "         13       0.00      0.00      0.00         0\n",
      "         14       0.00      0.00      0.00         0\n",
      "         15       0.00      0.00      0.00         0\n",
      "         16       0.00      0.00      0.00         0\n",
      "\n",
      "avg / total       0.99      0.99      0.99    237848\n",
      "\n"
     ]
    },
    {
     "name": "stderr",
     "output_type": "stream",
     "text": [
      "/home/sanjay/anaconda3/lib/python3.6/site-packages/sklearn/metrics/classification.py:1137: UndefinedMetricWarning: Recall and F-score are ill-defined and being set to 0.0 in labels with no true samples.\n",
      "  'recall', 'true', average, warn_for)\n"
     ]
    }
   ],
   "source": [
    "i = 5\n",
    "p = model.predict(np.array(X_test))\n",
    "p = np.argmax(p, axis=-1)\n",
    "true = np.argmax(y_test, -1)\n",
    "print(classification_report(p.flatten(),true.flatten()))\n"
   ]
  },
  {
   "cell_type": "code",
   "execution_count": 28,
   "metadata": {
    "scrolled": true
   },
   "outputs": [
    {
     "name": "stdout",
     "output_type": "stream",
     "text": [
      "Word           ||True ||Pred\n",
      "==============================\n",
      "Venezuela      : B-geo B-geo\n",
      "has            : O     O\n",
      "already        : O     O\n",
      "purchased      : O     O\n",
      "$              : O     O\n",
      "3              : O     O\n",
      "billion        : O     O\n",
      "in             : O     O\n",
      "Russian        : B-gpe B-gpe\n",
      "fighter        : O     O\n",
      "jets           : O     O\n",
      ",              : O     O\n",
      "helicopters    : O     O\n",
      "and            : O     O\n",
      "guns           : O     O\n",
      ".              : O     O\n"
     ]
    }
   ],
   "source": [
    "i = 322\n",
    "p = model.predict(np.array([X_test[i]]))\n",
    "p = np.argmax(p, axis=-1)\n",
    "true = np.argmax(y_test[i], -1)\n",
    "print(\"{:15}||{:5}||{}\".format(\"Word\", \"True\", \"Pred\"))\n",
    "print(30 * \"=\")\n",
    "for w, t, pred in zip(X_test[i], true, p[0]):\n",
    "    if w != 0:\n",
    "        print(\"{:15}: {:5} {}\".format(words[w-1], tags[t], tags[pred]))"
   ]
  },
  {
   "cell_type": "code",
   "execution_count": 29,
   "metadata": {
    "collapsed": true
   },
   "outputs": [],
   "source": [
    "from word_vec import embeddings"
   ]
  },
  {
   "cell_type": "code",
   "execution_count": 30,
   "metadata": {
    "collapsed": true
   },
   "outputs": [],
   "source": [
    "embeds = embeddings('./data/glove.6B.50d.txt')"
   ]
  },
  {
   "cell_type": "code",
   "execution_count": 31,
   "metadata": {
    "scrolled": true
   },
   "outputs": [
    {
     "name": "stdout",
     "output_type": "stream",
     "text": [
      "24713 50\n",
      "[[ 0.        0.        0.       ...  0.        0.        0.      ]\n",
      " [ 1.1515   -0.39703   0.9735   ... -0.46405  -0.92481  -1.6236  ]\n",
      " [ 0.70853   0.57088  -0.4716   ... -0.22562  -0.093918 -0.80375 ]\n",
      " ...\n",
      " [ 0.024784  0.50666  -0.65209  ...  0.10319   0.12398   0.49398 ]\n",
      " [ 0.66829   0.54127  -0.58356  ...  0.20972  -0.67893  -0.91635 ]\n",
      " [ 1.0361    0.17637   0.13156  ...  1.2002    0.67107   0.14235 ]]\n"
     ]
    }
   ],
   "source": [
    "embedding_matrix = embeds.get_embedding_matrix(word2idx)\n",
    "print(embedding_matrix)"
   ]
  },
  {
   "cell_type": "code",
   "execution_count": 32,
   "metadata": {},
   "outputs": [
    {
     "name": "stdout",
     "output_type": "stream",
     "text": [
      "50\n"
     ]
    }
   ],
   "source": [
    "EMBEDDING_DIM = embedding_matrix.shape[1]\n",
    "print(EMBEDDING_DIM)"
   ]
  },
  {
   "cell_type": "code",
   "execution_count": 33,
   "metadata": {
    "scrolled": false
   },
   "outputs": [],
   "source": [
    "inpt = Input(shape=(max_length,))\n",
    "model1 = Embedding(input_dim=n_words+1,output_dim=EMBEDDING_DIM,weights=[embedding_matrix],input_length=max_length,trainable=False)(inpt)\n",
    "model1 = Dropout(0.1)(model1)\n",
    "model1 = Bidirectional(LSTM(units=100,return_sequences=True,recurrent_dropout=0.1))(model1)\n",
    "model1 = TimeDistributed(Dense(50,activation=\"relu\"))(model1)\n",
    "crf = CRF(n_tags)\n",
    "out = crf(model1)"
   ]
  },
  {
   "cell_type": "code",
   "execution_count": 34,
   "metadata": {},
   "outputs": [
    {
     "name": "stdout",
     "output_type": "stream",
     "text": [
      "_________________________________________________________________\n",
      "Layer (type)                 Output Shape              Param #   \n",
      "=================================================================\n",
      "input_2 (InputLayer)         (None, 104)               0         \n",
      "_________________________________________________________________\n",
      "embedding_2 (Embedding)      (None, 104, 50)           1235650   \n",
      "_________________________________________________________________\n",
      "dropout_2 (Dropout)          (None, 104, 50)           0         \n",
      "_________________________________________________________________\n",
      "bidirectional_2 (Bidirection (None, 104, 200)          120800    \n",
      "_________________________________________________________________\n",
      "time_distributed_2 (TimeDist (None, 104, 50)           10050     \n",
      "_________________________________________________________________\n",
      "crf_2 (CRF)                  (None, 104, 17)           1190      \n",
      "=================================================================\n",
      "Total params: 1,367,690\n",
      "Trainable params: 132,040\n",
      "Non-trainable params: 1,235,650\n",
      "_________________________________________________________________\n"
     ]
    }
   ],
   "source": [
    "model1 = Model(inpt,out)\n",
    "model1.summary()"
   ]
  },
  {
   "cell_type": "code",
   "execution_count": 35,
   "metadata": {
    "collapsed": true
   },
   "outputs": [],
   "source": [
    "model1.compile(optimizer='rmsprop',loss=crf.loss_function,metrics=[crf.accuracy])"
   ]
  },
  {
   "cell_type": "code",
   "execution_count": 36,
   "metadata": {
    "scrolled": true
   },
   "outputs": [
    {
     "name": "stdout",
     "output_type": "stream",
     "text": [
      "Train on 18517 samples, validate on 2058 samples\n",
      "Epoch 1/4\n",
      "18517/18517 [==============================] - 194s 10ms/step - loss: 0.0924 - acc: 0.9751 - val_loss: 0.0426 - val_acc: 0.9869\n",
      "f1_score =  0.9868944830679525\n",
      "Epoch 2/4\n",
      "18517/18517 [==============================] - 183s 10ms/step - loss: 0.0356 - acc: 0.9875 - val_loss: 0.0256 - val_acc: 0.9891\n",
      "f1_score =  0.989123121776183\n",
      "Epoch 3/4\n",
      "18517/18517 [==============================] - 188s 10ms/step - loss: 0.0229 - acc: 0.9890 - val_loss: 0.0162 - val_acc: 0.9900\n",
      "f1_score =  0.9900108395006354\n",
      "Epoch 4/4\n",
      "18517/18517 [==============================] - 190s 10ms/step - loss: 0.0138 - acc: 0.9899 - val_loss: 0.0088 - val_acc: 0.9906\n",
      "f1_score =  0.9905995365179039\n"
     ]
    }
   ],
   "source": [
    "history = model1.fit(X_train,np.array(y_train),batch_size=32,epochs=4,validation_split=0.1,verbose=1,callbacks = [metrics])"
   ]
  },
  {
   "cell_type": "code",
   "execution_count": 37,
   "metadata": {
    "collapsed": true
   },
   "outputs": [],
   "source": [
    "hist = pd.DataFrame(history.history)"
   ]
  },
  {
   "cell_type": "code",
   "execution_count": 38,
   "metadata": {},
   "outputs": [
    {
     "data": {
      "text/html": [
       "<div>\n",
       "<style>\n",
       "    .dataframe thead tr:only-child th {\n",
       "        text-align: right;\n",
       "    }\n",
       "\n",
       "    .dataframe thead th {\n",
       "        text-align: left;\n",
       "    }\n",
       "\n",
       "    .dataframe tbody tr th {\n",
       "        vertical-align: top;\n",
       "    }\n",
       "</style>\n",
       "<table border=\"1\" class=\"dataframe\">\n",
       "  <thead>\n",
       "    <tr style=\"text-align: right;\">\n",
       "      <th></th>\n",
       "      <th>acc</th>\n",
       "      <th>loss</th>\n",
       "      <th>val_acc</th>\n",
       "      <th>val_loss</th>\n",
       "    </tr>\n",
       "  </thead>\n",
       "  <tbody>\n",
       "    <tr>\n",
       "      <th>0</th>\n",
       "      <td>0.975059</td>\n",
       "      <td>0.092393</td>\n",
       "      <td>0.986894</td>\n",
       "      <td>0.042616</td>\n",
       "    </tr>\n",
       "    <tr>\n",
       "      <th>1</th>\n",
       "      <td>0.987540</td>\n",
       "      <td>0.035597</td>\n",
       "      <td>0.989123</td>\n",
       "      <td>0.025567</td>\n",
       "    </tr>\n",
       "    <tr>\n",
       "      <th>2</th>\n",
       "      <td>0.989007</td>\n",
       "      <td>0.022892</td>\n",
       "      <td>0.990011</td>\n",
       "      <td>0.016203</td>\n",
       "    </tr>\n",
       "    <tr>\n",
       "      <th>3</th>\n",
       "      <td>0.989868</td>\n",
       "      <td>0.013752</td>\n",
       "      <td>0.990600</td>\n",
       "      <td>0.008821</td>\n",
       "    </tr>\n",
       "  </tbody>\n",
       "</table>\n",
       "</div>"
      ],
      "text/plain": [
       "        acc      loss   val_acc  val_loss\n",
       "0  0.975059  0.092393  0.986894  0.042616\n",
       "1  0.987540  0.035597  0.989123  0.025567\n",
       "2  0.989007  0.022892  0.990011  0.016203\n",
       "3  0.989868  0.013752  0.990600  0.008821"
      ]
     },
     "execution_count": 38,
     "metadata": {},
     "output_type": "execute_result"
    }
   ],
   "source": [
    "hist"
   ]
  },
  {
   "cell_type": "code",
   "execution_count": 39,
   "metadata": {
    "scrolled": true
   },
   "outputs": [
    {
     "data": {
      "image/png": "[encoded data removed]",
      "text/plain": [
       "<matplotlib.figure.Figure at 0x7fc11557e278>"
      ]
     },
     "metadata": {},
     "output_type": "display_data"
    }
   ],
   "source": [
    "plt.style.use(\"ggplot\")\n",
    "plt.figure(figsize=(12,12))\n",
    "plt.plot(hist[\"acc\"])\n",
    "plt.plot(hist[\"val_acc\"])\n",
    "plt.show()"
   ]
  },
  {
   "cell_type": "code",
   "execution_count": 40,
   "metadata": {
    "scrolled": true
   },
   "outputs": [
    {
     "name": "stdout",
     "output_type": "stream",
     "text": [
      "             precision    recall  f1-score   support\n",
      "\n",
      "          0       1.00      1.00      1.00    230743\n",
      "          1       0.88      0.81      0.84      1991\n",
      "          2       0.89      0.93      0.91       740\n",
      "          3       0.81      0.83      0.82       789\n",
      "          4       0.75      0.78      0.76       371\n",
      "          5       0.55      0.72      0.62       677\n",
      "          6       0.51      0.69      0.58       525\n",
      "          7       0.83      0.89      0.86       927\n",
      "          8       0.00      0.00      0.00         0\n",
      "          9       0.00      0.00      0.00         0\n",
      "         10       0.86      0.86      0.86       831\n",
      "         11       0.12      0.50      0.20         2\n",
      "         12       0.62      0.78      0.70       249\n",
      "         13       0.00      0.00      0.00         0\n",
      "         14       0.14      0.67      0.24         3\n",
      "         15       0.00      0.00      0.00         0\n",
      "         16       0.00      0.00      0.00         0\n",
      "\n",
      "avg / total       0.99      0.99      0.99    237848\n",
      "\n"
     ]
    },
    {
     "name": "stderr",
     "output_type": "stream",
     "text": [
      "/home/sanjay/anaconda3/lib/python3.6/site-packages/sklearn/metrics/classification.py:1137: UndefinedMetricWarning: Recall and F-score are ill-defined and being set to 0.0 in labels with no true samples.\n",
      "  'recall', 'true', average, warn_for)\n"
     ]
    }
   ],
   "source": [
    "i = 5\n",
    "p = model1.predict(np.array(X_test))\n",
    "p = np.argmax(p, axis=-1)\n",
    "true = np.argmax(y_test, -1)\n",
    "print(classification_report(p.flatten(),true.flatten()))"
   ]
  }
 ],
 "metadata": {
  "kernelspec": {
   "display_name": "Python 3",
   "language": "python",
   "name": "python3"
  },
  "language_info": {
   "codemirror_mode": {
    "name": "ipython",
    "version": 3
   },
   "file_extension": ".py",
   "mimetype": "text/x-python",
   "name": "python",
   "nbconvert_exporter": "python",
   "pygments_lexer": "ipython3",
   "version": "3.6.3"
  }
 },
 "nbformat": 4,
 "nbformat_minor": 2
}
